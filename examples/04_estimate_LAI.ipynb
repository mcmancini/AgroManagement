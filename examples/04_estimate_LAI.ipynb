{
 "cells": [
  {
   "cell_type": "markdown",
   "metadata": {},
   "source": [
    "# Example procedure to estimate LAI from satellite weather data\n",
    "---\n",
    "**Authors**\n",
    "- [Mattia C. Mancini](https://github.com/mcmancini) -- (m.c.mancini@exeter.ac.uk)\n",
    "- [Mingyuan Chen](https://github.com/MingyuanChen94) -- (M.Chen2@exeter.ac.uk)  \n",
    "\n",
    "**Date**: May 23rd, 2024  \n",
    "\n",
    "---\n",
    "\n",
    "This notebook goes through the process of estimating Leaf Area Index of crops following the methodology and using the code developed by [Myrgiotis *et al.*, 2021](https://datashare.ed.ac.uk/handle/10283/4086). The code has been taken from the [LAI_S1S2](https://datashare.ed.ac.uk/bitstream/handle/10283/4086/LAI_S1S2_fusion.py?sequence=2&isAllowed=y) script, and heavily modified to make it work. This is now in the `agromanagment/utiliy/lai_generator.py` module. \n",
    "For this to work, the following steps are required:\n",
    "- 1. Download and install the [ESA SNAP application](https://step.esa.int/main/download/snap-download/): select \"All Toolboxes\", although the Sentinel Toolboxes should be enough;\n",
    "- 2. Install into your global environment the GDAL library, if not yet vailable. Note: this is a global installation, not the installation already exisiting in the `agromanagment` Conda environment. To install GDAL globally in Windodws:\n",
    "    - Download [OSGeo4W](https://trac.osgeo.org/osgeo4w/).\n",
    "    - Once downloaded, add to your PATH the `bin` folder in the main OSGeo4W installation folder, for example `C:\\OSGeo4W\\bin` if you have used the default installation location. This allows to access from terminal all the various gdal scripts required to perform spatial analyisis.  \n",
    "\n",
    "Once completed the previous steps, we can then estimate the LAI through the gap-filling algorithm. This assumes that the weather data of interest has been already downloaded. This is done using the example notebooks 2 (Sentinel 1 and 2 data) and 3 (ERA 5 reanalysis data).\n",
    "\n",
    "## Computing LAI\n",
    "Computing LAI consists of the following steps:\n",
    "1. Initialise an instance of the class `LaiGenerator`\n",
    "2. Call the method `s1_to_vvvh()` which processes Sentinel 1 data into backscatter VV/VH intensity maps for the selected area;\n",
    "3. Call the method `s2_to_lai()` which processeses Sentinel-2 images/tiles into Leaf Area Index for the entire S2 tile;\n",
    "4. Call the method `lai_ts_creation()` which collects the outputs previous two methods, and creates time-series of vapour pressure deficit (VPD) using data downloaded from ECMWF ERA-5. It then applies the gap-filling algorithm to generate weekly continuous LAI time-series for the location and timeframe of interest.\n"
   ]
  },
  {
   "cell_type": "code",
   "execution_count": null,
   "metadata": {},
   "outputs": [],
   "source": [
    "# Update sys path so notebook can access the agromanagement package\n",
    "import sys\n",
    "sys.path.append('../')"
   ]
  },
  {
   "cell_type": "markdown",
   "metadata": {},
   "source": [
    "### 1.1. Temporal timeframe"
   ]
  },
  {
   "cell_type": "code",
   "execution_count": null,
   "metadata": {},
   "outputs": [],
   "source": [
    "START_DATE = \"2019-01-01\"\n",
    "END_DATE = \"2019-12-31\""
   ]
  },
  {
   "cell_type": "markdown",
   "metadata": {},
   "source": [
    "### 1.2. Paths for data"
   ]
  },
  {
   "cell_type": "code",
   "execution_count": null,
   "metadata": {},
   "outputs": [],
   "source": [
    "import os\n",
    "\n",
    "# replace paths for user-defined ones\n",
    "ROOT_DIR = os.path.join(\"..\")\n",
    "SENTINEL_1_OUTPUT_FOLDER = os.path.join(\"..\", \"resources\", \"sentinel_1\")\n",
    "SENTINEL_2_OUTPUT_FOLDER = os.path.join(\"..\", \"resources\", \"sentinel_l2a\")\n",
    "ERA_OUTPUT_FOLDER = os.path.join(\"..\", \"resources\", \"era_5\")\n",
    "PARCEL_FOLDER = os.path.join(\"..\", \"resources\")\n",
    "HOME_FOLDER = os.path.expanduser(\"~\")\n",
    "SNAP_GRAPH_DIR = f\"{HOME_FOLDER}/.snap/graphs/\"\n",
    "SNAP_GTP_DIR = \"C:/Program Files/esa-snap/bin/\"\n"
   ]
  },
  {
   "cell_type": "markdown",
   "metadata": {},
   "source": [
    "### 1.3. Define parcel of interest"
   ]
  },
  {
   "cell_type": "code",
   "execution_count": null,
   "metadata": {},
   "outputs": [],
   "source": [
    "import geopandas as gpd\n",
    "\n",
    "PARCEL_NAME = \"1270998.geojson\"\n",
    "parcel_path = os.path.join(PARCEL_FOLDER, PARCEL_NAME)"
   ]
  },
  {
   "cell_type": "markdown",
   "metadata": {},
   "source": [
    "### 1.3. Initialise LAI Generator"
   ]
  },
  {
   "cell_type": "code",
   "execution_count": null,
   "metadata": {},
   "outputs": [],
   "source": [
    "from agromanagement.utility.lai_generator import LaiGenerator\n",
    "\n",
    "filename = ''.join([char for char in PARCEL_NAME if char.isdigit()])\n",
    "\n",
    "lai = LaiGenerator(\n",
    "    jsonloc=parcel_path,\n",
    "    filename=filename,\n",
    "    workingdir=ROOT_DIR,\n",
    "    s1_dir=SENTINEL_1_OUTPUT_FOLDER,\n",
    "    s2_dir=SENTINEL_2_OUTPUT_FOLDER,\n",
    "    era_dir=ERA_OUTPUT_FOLDER,\n",
    "    snap_graphs_dir=SNAP_GRAPH_DIR,\n",
    "    snap_gtp_dir=SNAP_GTP_DIR,\n",
    "    startdate=START_DATE,\n",
    "    enddate=END_DATE,\n",
    ")"
   ]
  },
  {
   "cell_type": "markdown",
   "metadata": {},
   "source": [
    "### 1.4. Compute LAI\n",
    "This takes a long time, and will return plenty of warnings which for the time being we do not care about: I tried to mute them, but partly unsuccessfully. These warnings Will need to be investigated and addressed at some point, what I wanted was to have a script working and returning LAI values without returning errors. Some of the warnings have FutureWarnings from Pandas on the way it is dealing with concatenating together dataframes with NAs; others are returned by snap and seem more concerning. Interestingly though, these snap-related warnings are returned only when running the snap graphs from Python but not when running them using the SNAP GUI. "
   ]
  },
  {
   "cell_type": "code",
   "execution_count": null,
   "metadata": {},
   "outputs": [],
   "source": [
    "lai.s1_to_vvvh()\n",
    "lai.s2_to_lai()\n",
    "lai.lai_ts_creation()"
   ]
  }
 ],
 "metadata": {
  "kernelspec": {
   "display_name": "agromanagement",
   "language": "python",
   "name": "python3"
  },
  "language_info": {
   "codemirror_mode": {
    "name": "ipython",
    "version": 3
   },
   "file_extension": ".py",
   "mimetype": "text/x-python",
   "name": "python",
   "nbconvert_exporter": "python",
   "pygments_lexer": "ipython3",
   "version": "3.10.14"
  }
 },
 "nbformat": 4,
 "nbformat_minor": 2
}
