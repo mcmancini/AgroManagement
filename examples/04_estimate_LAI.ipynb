{
 "cells": [
  {
   "cell_type": "markdown",
   "metadata": {},
   "source": [
    "# Example procedure to estimate LAI from satellite weather data\n",
    "---\n",
    "**Author**: [Mattia C. Mancini](https://github.com/mcmancini) -- (m.c.mancini@exeter.ac.uk)  \n",
    "**Date**: April 26th, 2024  \n",
    "\n",
    "---\n",
    "\n",
    "This notebook goes through the process of estimating Leaf Area Index of crops following the methodology and using the code developed by [Myrgiotis *et al.*, 2021](https://datashare.ed.ac.uk/handle/10283/4086). This requires the following steps:\n",
    "- 1. Download and install the `LAI_S1S2_fusion` python package;\n",
    "- 2. Define a location of interest as a geoJSON object;\n",
    "- 3. Download and store Sentinel 2 L2A data for the location and timeframe of interest ;\n",
    "- 4. Download and store Sentinel 1 data for the location and timeframe of interest;\n",
    "- 5. Download and store ERA5 reanalysis data for the location and timeframe of interest;\n",
    "- 6. Estimate LAI.  \n",
    "More detail on steps 2-5 is available in the example notebooks 1, 2 and 3. Here we will use the functions to retreive the data, without going into the details on how to set up the APIs and how the data is queried.  \n"
   ]
  }
 ],
 "metadata": {
  "language_info": {
   "name": "python"
  }
 },
 "nbformat": 4,
 "nbformat_minor": 2
}
